{
 "cells": [
  {
   "cell_type": "markdown",
   "metadata": {},
   "source": [
    "# Predictive Analysis"
   ]
  },
  {
   "cell_type": "code",
   "execution_count": 1,
   "metadata": {},
   "outputs": [],
   "source": [
    "%matplotlib inline\n",
    "import pandas as pd; pd.options.display.float_format = '{:,.3f}'.format\n",
    "import numpy as np\n",
    "import seaborn as sns; sns.set_style(\"dark\")\n",
    "import matplotlib.pyplot as plt; plt.rcParams['figure.figsize'] = (8,6)\n",
    "from IPython.display import display\n",
    "from pprint import pprint\n",
    "\n",
    "from sklearn.model_selection import train_test_split\n",
    "\n",
    "from ml_tools import make_cross_validation, make_grid_search_clf, plot_roc_curve, make_grid_search_reg"
   ]
  },
  {
   "cell_type": "markdown",
   "metadata": {},
   "source": [
    "## Data Preparation"
   ]
  },
  {
   "cell_type": "markdown",
   "metadata": {},
   "source": [
    "We have the data for years 2014 and 2015. As we have seen in the previous section, the distribution of the different variables in both years differ sometimes largely from each other. For this reason we have decided not to take 2014 data for training and 2015 data from testing. Instead, we will draw a random sample from the merged dataset. The test sample is 25% of the size of the whole dataset. We have 11,316 examples in total, with 8,487 allocated to the training set and 2,829 extracted for testing purposes.<br/>\n",
    "The objective is to design a predictive model which can then be used to optimise the multiplier of the estimated value. We operate by first selecting a model using KFold crossvalidation with 5 folds. Then we select the three best performing models to fine-tune their hyperparameters and boost the resulting score. The tuning of the hyperparameters is also done with a crossvalidation framework with 5 folds. We first define the range of possible parameters and then select the set of hyperparameters that maximise the evaluation metric.</br>\n",
    "As discussed in the previous section, price related features have an exponential distribution. For this reason, we consider the logarithm of these values to design the model."
   ]
  },
  {
   "cell_type": "code",
   "execution_count": 2,
   "metadata": {
    "scrolled": false
   },
   "outputs": [
    {
     "data": {
      "text/html": [
       "<div>\n",
       "<style scoped>\n",
       "    .dataframe tbody tr th:only-of-type {\n",
       "        vertical-align: middle;\n",
       "    }\n",
       "\n",
       "    .dataframe tbody tr th {\n",
       "        vertical-align: top;\n",
       "    }\n",
       "\n",
       "    .dataframe thead th {\n",
       "        text-align: right;\n",
       "    }\n",
       "</style>\n",
       "<table border=\"1\" class=\"dataframe\">\n",
       "  <thead>\n",
       "    <tr style=\"text-align: right;\">\n",
       "      <th></th>\n",
       "      <th>LotNr</th>\n",
       "      <th>Allocate</th>\n",
       "      <th>Bank</th>\n",
       "      <th>Dealer</th>\n",
       "      <th>Liquidator</th>\n",
       "      <th>Volunteer</th>\n",
       "      <th>LotsSale</th>\n",
       "      <th>LotsCtgry</th>\n",
       "      <th>Forced</th>\n",
       "      <th>Duration</th>\n",
       "      <th>Morning</th>\n",
       "      <th>Evening</th>\n",
       "      <th>Afternoon</th>\n",
       "      <th>year</th>\n",
       "      <th>lmultiplier</th>\n",
       "      <th>lEstValue</th>\n",
       "      <th>lStartPrice</th>\n",
       "      <th>lSP.EV</th>\n",
       "      <th>lFollowers</th>\n",
       "    </tr>\n",
       "  </thead>\n",
       "  <tbody>\n",
       "    <tr>\n",
       "      <th>3323</th>\n",
       "      <td>846</td>\n",
       "      <td>0</td>\n",
       "      <td>1</td>\n",
       "      <td>0</td>\n",
       "      <td>0</td>\n",
       "      <td>0</td>\n",
       "      <td>905</td>\n",
       "      <td>272</td>\n",
       "      <td>1</td>\n",
       "      <td>408</td>\n",
       "      <td>0</td>\n",
       "      <td>0</td>\n",
       "      <td>1</td>\n",
       "      <td>2014</td>\n",
       "      <td>-0.301</td>\n",
       "      <td>1.301</td>\n",
       "      <td>1.000</td>\n",
       "      <td>-0.301</td>\n",
       "      <td>0.845</td>\n",
       "    </tr>\n",
       "    <tr>\n",
       "      <th>3655</th>\n",
       "      <td>101</td>\n",
       "      <td>0</td>\n",
       "      <td>0</td>\n",
       "      <td>0</td>\n",
       "      <td>0</td>\n",
       "      <td>1</td>\n",
       "      <td>295</td>\n",
       "      <td>94</td>\n",
       "      <td>1</td>\n",
       "      <td>246</td>\n",
       "      <td>0</td>\n",
       "      <td>0</td>\n",
       "      <td>1</td>\n",
       "      <td>2014</td>\n",
       "      <td>0.426</td>\n",
       "      <td>1.477</td>\n",
       "      <td>1.000</td>\n",
       "      <td>-0.477</td>\n",
       "      <td>1.544</td>\n",
       "    </tr>\n",
       "    <tr>\n",
       "      <th>3170</th>\n",
       "      <td>599</td>\n",
       "      <td>0</td>\n",
       "      <td>1</td>\n",
       "      <td>0</td>\n",
       "      <td>0</td>\n",
       "      <td>0</td>\n",
       "      <td>905</td>\n",
       "      <td>242</td>\n",
       "      <td>1</td>\n",
       "      <td>408</td>\n",
       "      <td>0</td>\n",
       "      <td>0</td>\n",
       "      <td>1</td>\n",
       "      <td>2014</td>\n",
       "      <td>-0.699</td>\n",
       "      <td>2.176</td>\n",
       "      <td>0.699</td>\n",
       "      <td>-1.477</td>\n",
       "      <td>1.000</td>\n",
       "    </tr>\n",
       "    <tr>\n",
       "      <th>3397</th>\n",
       "      <td>1008</td>\n",
       "      <td>0</td>\n",
       "      <td>1</td>\n",
       "      <td>0</td>\n",
       "      <td>0</td>\n",
       "      <td>0</td>\n",
       "      <td>905</td>\n",
       "      <td>74</td>\n",
       "      <td>1</td>\n",
       "      <td>408</td>\n",
       "      <td>0</td>\n",
       "      <td>0</td>\n",
       "      <td>1</td>\n",
       "      <td>2014</td>\n",
       "      <td>0.031</td>\n",
       "      <td>4.000</td>\n",
       "      <td>3.544</td>\n",
       "      <td>-0.456</td>\n",
       "      <td>1.301</td>\n",
       "    </tr>\n",
       "    <tr>\n",
       "      <th>7570</th>\n",
       "      <td>230</td>\n",
       "      <td>0</td>\n",
       "      <td>0</td>\n",
       "      <td>1</td>\n",
       "      <td>0</td>\n",
       "      <td>0</td>\n",
       "      <td>1053</td>\n",
       "      <td>377</td>\n",
       "      <td>0</td>\n",
       "      <td>362</td>\n",
       "      <td>0</td>\n",
       "      <td>0</td>\n",
       "      <td>1</td>\n",
       "      <td>2015</td>\n",
       "      <td>-0.097</td>\n",
       "      <td>1.699</td>\n",
       "      <td>1.477</td>\n",
       "      <td>-0.222</td>\n",
       "      <td>0.954</td>\n",
       "    </tr>\n",
       "  </tbody>\n",
       "</table>\n",
       "</div>"
      ],
      "text/plain": [
       "      LotNr  Allocate  Bank  Dealer  Liquidator  Volunteer  LotsSale  \\\n",
       "3323    846         0     1       0           0          0       905   \n",
       "3655    101         0     0       0           0          1       295   \n",
       "3170    599         0     1       0           0          0       905   \n",
       "3397   1008         0     1       0           0          0       905   \n",
       "7570    230         0     0       1           0          0      1053   \n",
       "\n",
       "      LotsCtgry  Forced  Duration  Morning  Evening  Afternoon  year  \\\n",
       "3323        272       1       408        0        0          1  2014   \n",
       "3655         94       1       246        0        0          1  2014   \n",
       "3170        242       1       408        0        0          1  2014   \n",
       "3397         74       1       408        0        0          1  2014   \n",
       "7570        377       0       362        0        0          1  2015   \n",
       "\n",
       "      lmultiplier  lEstValue  lStartPrice  lSP.EV  lFollowers  \n",
       "3323       -0.301      1.301        1.000  -0.301       0.845  \n",
       "3655        0.426      1.477        1.000  -0.477       1.544  \n",
       "3170       -0.699      2.176        0.699  -1.477       1.000  \n",
       "3397        0.031      4.000        3.544  -0.456       1.301  \n",
       "7570       -0.097      1.699        1.477  -0.222       0.954  "
      ]
     },
     "execution_count": 2,
     "metadata": {},
     "output_type": "execute_result"
    }
   ],
   "source": [
    "def load_data(filename):\n",
    "    return pd.read_csv(\"data/\" + filename)\n",
    "\n",
    "data2014 = pd.read_csv('data/data2014.csv').assign(year=2014)\n",
    "data2015 = pd.read_csv('data/data2015.csv').assign(year=2015)\n",
    "data = pd.concat([data2014, data2015], axis=0).reset_index(drop=True)\n",
    "\n",
    "cols = [\"multiplier\", \"EstValue\", \"StartPrice\", \"SP.EV\", \"Followers\"]\n",
    "log10 = pd.DataFrame(np.log10(data[cols].values), columns=list(map(\"l{}\".format, cols)))\n",
    "data = pd.concat([data, log10], axis=1).drop(cols, axis=1)\n",
    "data.sample(5)"
   ]
  },
  {
   "cell_type": "markdown",
   "metadata": {},
   "source": [
    "## Regression\n",
    "\n",
    "Assumption:\n",
    "\n",
    "$$(Start Price_i, Duration_i, Estimated Value_i, Period_i) \\rightarrow Followers_i \\rightarrow Multiplier$$"
   ]
  },
  {
   "cell_type": "markdown",
   "metadata": {},
   "source": [
    "### Model selection"
   ]
  },
  {
   "cell_type": "code",
   "execution_count": null,
   "metadata": {},
   "outputs": [],
   "source": [
    "# followers = \"lFollowers\"\n",
    "# X, iv, y = data.drop([target_name, followers], axis=1), data[followers], data[target_name]\n",
    "# X_train, X_test, iv_train, iv_test, y_train, y_test = train_test_split(X, iv, y)"
   ]
  },
  {
   "cell_type": "code",
   "execution_count": null,
   "metadata": {},
   "outputs": [],
   "source": [
    "# from sklearn.dummy import DummyRegressor\n",
    "# from sklearn.linear_model import LinearRegression, Lasso, LassoLars\n",
    "# from sklearn.svm import SVR\n",
    "# from sklearn.tree import DecisionTreeRegressor\n",
    "# from sklearn.ensemble import RandomForestRegressor, AdaBoostRegressor, GradientBoostingRegressor\n",
    "# from sklearn.metrics import r2_score\n",
    "\n",
    "# scoring = \"r2\"\n",
    "\n",
    "# models = [\n",
    "    \n",
    "#     (\"Dummy\", DummyRegressor(strategy=\"mean\")),\n",
    "#     (\"SVM\", SVR()), \n",
    "#     (\"LR\", LinearRegression()),\n",
    "#     (\"Lasso\", Lasso()),\n",
    "#     (\"LARS\", LassoLars()),\n",
    "#     (\"DT\", DecisionTreeRegressor()), \n",
    "#     (\"RF\", RandomForestRegressor()),\n",
    "#     (\"AB\", AdaBoostRegressor()),\n",
    "#     (\"GB\", GradientBoostingRegressor())\n",
    "    \n",
    "# ]\n",
    "\n",
    "# cv_results = make_cross_validation(models, scoring, X_train, iv_train)"
   ]
  },
  {
   "cell_type": "markdown",
   "metadata": {},
   "source": [
    "### Hyperparameters tuning"
   ]
  },
  {
   "cell_type": "code",
   "execution_count": null,
   "metadata": {
    "scrolled": false
   },
   "outputs": [],
   "source": [
    "# n_features = X_train.shape[1]\n",
    "\n",
    "# regressors = [\n",
    "#     (\"LinearRegression\", LinearRegression()), \n",
    "#     (\"RandomForestRegressor\", RandomForestRegressor(n_estimators=70)),\n",
    "#     (\"GradientBoostingRegressor\", GradientBoostingRegressor(n_estimators=60, learning_rate=.1, max_features=9))\n",
    "# ]\n",
    "\n",
    "# reg_params = {\n",
    "#     \"LinearRegression\": {\n",
    "#         \"normalize\": [True, False]\n",
    "#     },\n",
    "    \n",
    "#     \"RandomForestRegressor\": {\n",
    "#         \"criterion\": [\"mse\", \"mae\"],\n",
    "#         \"max_features\": range(5, n_features, (n_features - 5) // 3), \n",
    "#         \"max_depth\": range(3, 6, 2),\n",
    "# #         \"min_samples_split\": range(5, 101, 25),\n",
    "# #         \"n_estimators\": range(40, 80, 10)\n",
    "#     },\n",
    "    \n",
    "#     \"GradientBoostingRegressor\": {\n",
    "#         \"min_samples_split\" :   range(5, 20, 3),\n",
    "# #         \"max_features\": range(5, n_features + 1, (n_features - 5) // 4),\n",
    "#         \"max_depth\": range(3, 16, 4),\n",
    "# #         \"learning_rate\": np.logspace(-2, 1, 4),\n",
    "# #         \"n_estimators\": range(40, 80, 10)\n",
    "\n",
    "#     },\n",
    "# }\n",
    "\n",
    "# best_models, results = make_grid_search_reg(regressors, reg_params, X_train, iv_train, X_test, iv_test)"
   ]
  },
  {
   "cell_type": "code",
   "execution_count": null,
   "metadata": {
    "scrolled": false
   },
   "outputs": [],
   "source": [
    "# gbr = best_models[-1]\n",
    "# coef = pd.DataFrame(index=X_train.columns)\n",
    "# coef[\"Feature Importances\"] = gbr.feature_importances_\n",
    "# coef.sort_values(\"Feature Importances\", ascending=False)"
   ]
  },
  {
   "cell_type": "markdown",
   "metadata": {},
   "source": [
    "## Classification"
   ]
  },
  {
   "cell_type": "markdown",
   "metadata": {},
   "source": [
    "### Preprocessing\n",
    "\n",
    "Prepare data for classification"
   ]
  },
  {
   "cell_type": "code",
   "execution_count": 3,
   "metadata": {},
   "outputs": [],
   "source": [
    "final_columns = [\n",
    "    'LotNr', 'Allocate', 'Bank', 'Dealer', 'Liquidator', 'Volunteer',\n",
    "    'LotsSale', 'LotsCtgry', 'Forced',  'lEstValue', 'lFollowers',\n",
    "    'Duration', 'Morning', 'Evening', 'Afternoon',  'lSP.EV'\n",
    "]"
   ]
  },
  {
   "cell_type": "code",
   "execution_count": 4,
   "metadata": {},
   "outputs": [],
   "source": [
    "target_name = \"lmultiplier\"\n",
    "# bins = np.logspace(-2, 2, 5, base=2)\n",
    "bins = np.array([-2., 0., .3, 2])\n",
    "\n",
    "def cut(X, filter_values, log=False):\n",
    "    if log: X = np.log2(X)\n",
    "    X_cut = pd.cut(X, bins=filter_values)\n",
    "    X_cut = X_cut.map(lambda x: np.argmax(filter_values > x.left) - 1)\n",
    "    X_cut.loc[X_cut.isnull()] = X[X_cut.isnull()].map(lambda x: len(filter_values) - 2 if x > filter_values[-1] else 0)\n",
    "    return X_cut\n",
    "\n",
    "X, y = data[final_columns], data[target_name]\n",
    "X_train, X_test, y_train, y_test = train_test_split(X, y)\n",
    "# X_train, X_test = pd.concat([X_train, iv_train], axis=1), pd.concat([X_test, iv_test], axis=1)\n",
    "y_train_bins = cut(y_train, bins, log=False)\n",
    "y_test_bins = cut(y_test, bins)\n",
    "# y_train_bins = y_train.map(lambda x: 0 if x <= 0 else 1)\n",
    "# y_test_bins = y_test.map(lambda x: 0 if x <= 0 else 1)"
   ]
  },
  {
   "cell_type": "code",
   "execution_count": 21,
   "metadata": {
    "scrolled": false
   },
   "outputs": [
    {
     "data": {
      "image/png": "[encoded data removed]",
      "text/plain": [
       "<matplotlib.figure.Figure at 0x7f40e4abb518>"
      ]
     },
     "metadata": {},
     "output_type": "display_data"
    }
   ],
   "source": [
    "# fig, axs = plt.subplots(3, 2, figsize=(16,12))\n",
    "for i, (series, series_bin) in enumerate(zip([y_train, y_test], [y_train_bins, y_test_bins])):\n",
    "#     sns.boxplot(x=series, y=series_bin, orient='h', ax=axs[0, i % 3])\n",
    "#     sns.distplot(series, hue=series_bin, ax=axs[1, i % 3])\n",
    "    series_bin.value_counts().sort_index().plot.bar()  #ax=axs[2, i % 3])\n",
    "#     [ax.set_xlabel(\"\") for ax in axs[:, i % 3]]\n",
    "    break\n",
    "    \n",
    "plt.savefig(\"output/class_distribution.png\")"
   ]
  },
  {
   "cell_type": "markdown",
   "metadata": {},
   "source": [
    "### Classification"
   ]
  },
  {
   "cell_type": "code",
   "execution_count": 5,
   "metadata": {
    "scrolled": false
   },
   "outputs": [
    {
     "data": {
      "image/png": "[encoded data removed]",
      "text/plain": [
       "<Figure size 864x432 with 1 Axes>"
      ]
     },
     "metadata": {},
     "output_type": "display_data"
    }
   ],
   "source": [
    "from sklearn.dummy import DummyClassifier\n",
    "from sklearn.svm import SVC\n",
    "from sklearn.linear_model import LogisticRegression\n",
    "from sklearn.neighbors import KNeighborsClassifier\n",
    "from sklearn.tree import DecisionTreeClassifier\n",
    "from sklearn.ensemble import (\n",
    "    RandomForestClassifier,\n",
    "    ExtraTreesClassifier,\n",
    "    AdaBoostClassifier,\n",
    "    GradientBoostingClassifier\n",
    ")\n",
    "\n",
    "scoring = \"accuracy\"\n",
    "\n",
    "models = [\n",
    "    \n",
    "    (\"Dummy\", DummyClassifier(strategy=\"most_frequent\")),\n",
    "    (\"SVM\", SVC()), \n",
    "    (\"LR\", LogisticRegression()),\n",
    "    (\"DT\", DecisionTreeClassifier()), \n",
    "    (\"RF\", RandomForestClassifier()),\n",
    "    (\"ET\", ExtraTreesClassifier()),\n",
    "    (\"AB\", AdaBoostClassifier()),\n",
    "    (\"GB\", GradientBoostingClassifier())\n",
    "    \n",
    "]\n",
    "\n",
    "cv_results = make_cross_validation(models, scoring, X_train, y_train_bins)\n",
    "plt.savefig(\"Model selection.png\")"
   ]
  },
  {
   "cell_type": "code",
   "execution_count": 6,
   "metadata": {},
   "outputs": [],
   "source": [
    "import warnings\n",
    "import pickle\n",
    "from sklearn.model_selection import GridSearchCV, RandomizedSearchCV\n",
    "\n",
    "def make_grid_search_multiclass(classifiers, clf_params, X_train, y_train, X_test, y_test, random=False, search_kw=None, save=True):\n",
    "    average, scorer = \"weighted\", \"accuracy\"\n",
    "    \n",
    "    best_models, scores = [], []\n",
    "    results = pd.DataFrame(index=[item[0] for item in classifiers],\n",
    "                           columns=[\"name\", \"params\", \"accuracy\", \"auc_score_tr\", \"auc_score_te\",\n",
    "                                    \"precision\", \"recall\", \"fscore\", \"support\", \"TP\", \"FP\", \"FN\", \"TN\"])\n",
    "\n",
    "    if random:\n",
    "        SearchCV = RandomizedSearchCV\n",
    "    else:\n",
    "        SearchCV = GridSearchCV\n",
    "    if search_kw is None:\n",
    "        search_kw = dict(n_jobs=-1, return_train_score=True, scoring=scorer)\n",
    "\n",
    "    for i, (name, clf) in enumerate(classifiers):\n",
    "        params = clf_params[name]\n",
    "        with warnings.catch_warnings():\n",
    "            warnings.simplefilter('ignore')\n",
    "            gs = SearchCV(clf, params, **search_kw).fit(X_train, y_train)\n",
    "        best_models.append(gs.best_estimator_)\n",
    "#         y_pred = gs.predict(X_test)\n",
    "#         precision, recall, f_score, support = precision_recall_fscore_support(y_test, y_pred, average=average)\n",
    "#         auc_score_te = roc_auc_score(y_test, y_pred, average=average)\n",
    "#         auc_score_tr = gs.best_score_\n",
    "#         accuracy = (y_pred == y_test).mean()\n",
    "#         params = gs.best_params_\n",
    "#         [[TP, FN], [FP, TN]] = confusion_matrix(y_test, y_pred)\n",
    "#         results.loc[name, :] = (name, params, accuracy, auc_score_tr, auc_score_te, precision,\n",
    "#                                 recall, f_score, support, TP, FP, FN, TN)\n",
    "\n",
    "#         scores.append(roc_auc_score(y_test, y_pred))\n",
    "#         gs_results = pd.DataFrame(gs.cv_results_).drop(\"params\", axis=1).sort_values(\"rank_test_score\")\n",
    "#         print(\"\\n{}:\\n\".format(name))\n",
    "#         print(\"\\tAccuracy: {:.2%}\".format(accuracy))\n",
    "#         print(\"\\tAUC Score (Train set): {:.2%}\".format(gs.best_score_))\n",
    "#         print(\"\\tAUC Score (Test set): {:.2%}\\n\".format(scores[-1]))\n",
    "#         print(classification_report(y_test, y_pred))\n",
    "#         print(best_models[-1], \"\\n\")\n",
    "#         if i + 1 < len(classifiers):\n",
    "#             print(\"#\" * 100)\n",
    "#     fig = plt.figure(figsize=(12, 6))\n",
    "#     ax = fig.add_subplot(111)\n",
    "#     results.plot.bar(ax=ax)\n",
    "    if save:\n",
    "        pickle_models(best_models)\n",
    "    return best_models #, results\n",
    "\n",
    "def pickle_models(models):\n",
    "\n",
    "    for model in models:\n",
    "        name = str(model.__class__).split(\".\")[-1][:-2]\n",
    "        with open(f\"output/{name}.pkl\", 'wb') as f:\n",
    "            pickle.dump(model, f)"
   ]
  },
  {
   "cell_type": "code",
   "execution_count": 7,
   "metadata": {
    "scrolled": false
   },
   "outputs": [],
   "source": [
    "n_features = X_train.shape[1]\n",
    "\n",
    "base_dt = DecisionTreeClassifier(criterion='entropy', splitter='random')  #max_features=\"auto\", max_depth=None)\n",
    "\n",
    "classifiers = [\n",
    "#     (\"LogisticRegression\", LogisticRegression()), \n",
    "    (\"AdaBoostClassifier\", AdaBoostClassifier(base_estimator=base_dt, learning_rate=0.01, n_estimators=60)),\n",
    "#     (\"GradientBoostingClassifier\", GradientBoostingClassifier(n_estimators=60, learning_rate=0.1))\n",
    "]\n",
    "\n",
    "clf_params = {\n",
    "    \"LogisticRegression\": {\n",
    "#         \"penalty\": [\"l1\", \"l2\"], \n",
    "        \"C\": np.logspace(-3, 3, 7), \n",
    "        \"class_weight\":[\"balanced\", None]\n",
    "    },\n",
    "    \n",
    "    \"AdaBoostClassifier\": {\n",
    "#         \"base_estimator__criterion\" : [\"gini\", \"entropy\"],\n",
    "#         \"base_estimator__splitter\" :   [\"best\", \"random\"],\n",
    "        \"base_estimator__max_features\": range(5, n_features + 1, (n_features - 5) // 4),\n",
    "        \"base_estimator__max_depth\": range(3, 16, 4),\n",
    "#         \"learning_rate\": np.logspace(-2, 1, 4),\n",
    "#         \"n_estimators\": range(40, 80, 10)\n",
    "    },\n",
    "    \n",
    "    \"GradientBoostingClassifier\": {\n",
    "        \"min_samples_split\" :   range(3, 10, 3),\n",
    "        \"max_features\": range(5, n_features + 1, (n_features - 5) // 4),\n",
    "        \"max_depth\": range(3, 16, 4),\n",
    "#         \"learning_rate\": np.logspace(-2, 1, 4),\n",
    "#         \"n_estimators\": range(40, 80, 10)\n",
    "\n",
    "    },\n",
    "}\n",
    "\n",
    "best_models = make_grid_search_multiclass(classifiers, clf_params, X_train, y_train_bins, X_test, y_test_bins)"
   ]
  },
  {
   "cell_type": "code",
   "execution_count": 8,
   "metadata": {},
   "outputs": [
    {
     "name": "stdout",
     "output_type": "stream",
     "text": [
      "<class 'sklearn.ensemble.weight_boosting.AdaBoostClassifier'>\n",
      "precision_recall_fscore_support: (0.6914930238591489, 0.7104984093319194, 0.6956695392689747, None)\n"
     ]
    }
   ],
   "source": [
    "from sklearn.metrics import (\n",
    "    accuracy_score,\n",
    "    precision_recall_fscore_support,\n",
    "    roc_auc_score,\n",
    "    confusion_matrix,\n",
    "    classification_report,\n",
    "    roc_curve\n",
    ")\n",
    "\n",
    "metrics = [\n",
    "#     (\"accuracy_score\", accuracy_score),\n",
    "    (\"precision_recall_fscore_support\", precision_recall_fscore_support),\n",
    "#     (\"roc_auc_score\", roc_auc_score),\n",
    "#     (\"confusion_matrix\", confusion_matrix),\n",
    "#     classification_report,\n",
    "#     roc_curve\n",
    "]\n",
    "\n",
    "for model in best_models:\n",
    "    y_pred = model.predict(X_test)\n",
    "    print(model.__class__)\n",
    "    for name, metric in metrics:\n",
    "        print(name, end=\": \")\n",
    "        print(metric(y_test_bins, y_pred, average=\"weighted\"))"
   ]
  },
  {
   "cell_type": "code",
   "execution_count": null,
   "metadata": {},
   "outputs": [],
   "source": [
    "# plot_roc_curve(classifiers, best_models, X_test, y_test_bins)"
   ]
  },
  {
   "cell_type": "markdown",
   "metadata": {},
   "source": [
    "clf = best_models[0]\n",
    "coef = pd.DataFrame(index=X_train.columns)\n",
    "coef[\"Feature Importances\"] = clf.feature_importances_\n",
    "coef.sort_values(\"Feature Importances\", ascending=False)"
   ]
  },
  {
   "cell_type": "code",
   "execution_count": 10,
   "metadata": {},
   "outputs": [
    {
     "data": {
      "text/plain": [
       "1076"
      ]
     },
     "execution_count": 10,
     "metadata": {},
     "output_type": "execute_result"
    }
   ],
   "source": [
    "import pickle\n",
    "\n",
    "def load_model(model_name):\n",
    "    with open(model_name, 'rb') as f:\n",
    "        model = pickle.load(f)\n",
    "    return model\n",
    "\n",
    "# gbr = load_model(\"output/GradientBoostingRegressor.pkl\")\n",
    "adb = load_model(\"output/AdaBoostClassifier.pkl\")\n",
    "y_pred = adb.predict(X_test)\n",
    "y_pred.sum()"
   ]
  },
  {
   "cell_type": "code",
   "execution_count": 11,
   "metadata": {},
   "outputs": [
    {
     "data": {
      "text/plain": [
       "0.7104984093319194"
      ]
     },
     "execution_count": 11,
     "metadata": {},
     "output_type": "execute_result"
    }
   ],
   "source": [
    "adb.score(X_test, y_test_bins)"
   ]
  },
  {
   "cell_type": "markdown",
   "metadata": {},
   "source": [
    "## Classifier Visualizations"
   ]
  },
  {
   "cell_type": "code",
   "execution_count": 15,
   "metadata": {},
   "outputs": [
    {
     "data": {
      "text/html": [
       "<div>\n",
       "<style scoped>\n",
       "    .dataframe tbody tr th:only-of-type {\n",
       "        vertical-align: middle;\n",
       "    }\n",
       "\n",
       "    .dataframe tbody tr th {\n",
       "        vertical-align: top;\n",
       "    }\n",
       "\n",
       "    .dataframe thead th {\n",
       "        text-align: right;\n",
       "    }\n",
       "</style>\n",
       "<table border=\"1\" class=\"dataframe\">\n",
       "  <thead>\n",
       "    <tr style=\"text-align: right;\">\n",
       "      <th></th>\n",
       "      <th>LotNr</th>\n",
       "      <th>Allocate</th>\n",
       "      <th>Bank</th>\n",
       "      <th>Dealer</th>\n",
       "      <th>Liquidator</th>\n",
       "      <th>Volunteer</th>\n",
       "      <th>LotsSale</th>\n",
       "      <th>LotsCtgry</th>\n",
       "      <th>Forced</th>\n",
       "      <th>lEstValue</th>\n",
       "      <th>lFollowers</th>\n",
       "      <th>Duration</th>\n",
       "      <th>Morning</th>\n",
       "      <th>Evening</th>\n",
       "      <th>Afternoon</th>\n",
       "      <th>lSP.EV</th>\n",
       "    </tr>\n",
       "  </thead>\n",
       "  <tbody>\n",
       "    <tr>\n",
       "      <th>6076</th>\n",
       "      <td>1113</td>\n",
       "      <td>0</td>\n",
       "      <td>0</td>\n",
       "      <td>1</td>\n",
       "      <td>0</td>\n",
       "      <td>0</td>\n",
       "      <td>1426</td>\n",
       "      <td>778</td>\n",
       "      <td>0</td>\n",
       "      <td>1.398</td>\n",
       "      <td>0.954</td>\n",
       "      <td>39</td>\n",
       "      <td>0</td>\n",
       "      <td>0</td>\n",
       "      <td>1</td>\n",
       "      <td>-0.097</td>\n",
       "    </tr>\n",
       "    <tr>\n",
       "      <th>5991</th>\n",
       "      <td>1002</td>\n",
       "      <td>0</td>\n",
       "      <td>0</td>\n",
       "      <td>1</td>\n",
       "      <td>0</td>\n",
       "      <td>0</td>\n",
       "      <td>1426</td>\n",
       "      <td>778</td>\n",
       "      <td>0</td>\n",
       "      <td>1.398</td>\n",
       "      <td>1.041</td>\n",
       "      <td>40</td>\n",
       "      <td>0</td>\n",
       "      <td>0</td>\n",
       "      <td>1</td>\n",
       "      <td>-0.097</td>\n",
       "    </tr>\n",
       "    <tr>\n",
       "      <th>10374</th>\n",
       "      <td>766</td>\n",
       "      <td>0</td>\n",
       "      <td>0</td>\n",
       "      <td>1</td>\n",
       "      <td>0</td>\n",
       "      <td>0</td>\n",
       "      <td>1079</td>\n",
       "      <td>360</td>\n",
       "      <td>0</td>\n",
       "      <td>1.176</td>\n",
       "      <td>0.845</td>\n",
       "      <td>319</td>\n",
       "      <td>0</td>\n",
       "      <td>0</td>\n",
       "      <td>1</td>\n",
       "      <td>-0.176</td>\n",
       "    </tr>\n",
       "    <tr>\n",
       "      <th>9071</th>\n",
       "      <td>650</td>\n",
       "      <td>0</td>\n",
       "      <td>0</td>\n",
       "      <td>1</td>\n",
       "      <td>0</td>\n",
       "      <td>0</td>\n",
       "      <td>1329</td>\n",
       "      <td>630</td>\n",
       "      <td>0</td>\n",
       "      <td>1.544</td>\n",
       "      <td>1.342</td>\n",
       "      <td>64</td>\n",
       "      <td>0</td>\n",
       "      <td>0</td>\n",
       "      <td>1</td>\n",
       "      <td>-0.146</td>\n",
       "    </tr>\n",
       "    <tr>\n",
       "      <th>11230</th>\n",
       "      <td>58</td>\n",
       "      <td>0</td>\n",
       "      <td>0</td>\n",
       "      <td>0</td>\n",
       "      <td>0</td>\n",
       "      <td>1</td>\n",
       "      <td>162</td>\n",
       "      <td>140</td>\n",
       "      <td>1</td>\n",
       "      <td>2.097</td>\n",
       "      <td>0.954</td>\n",
       "      <td>456</td>\n",
       "      <td>0</td>\n",
       "      <td>0</td>\n",
       "      <td>1</td>\n",
       "      <td>-0.222</td>\n",
       "    </tr>\n",
       "  </tbody>\n",
       "</table>\n",
       "</div>"
      ],
      "text/plain": [
       "       LotNr  Allocate  Bank  Dealer  Liquidator  Volunteer  LotsSale  \\\n",
       "6076    1113         0     0       1           0          0      1426   \n",
       "5991    1002         0     0       1           0          0      1426   \n",
       "10374    766         0     0       1           0          0      1079   \n",
       "9071     650         0     0       1           0          0      1329   \n",
       "11230     58         0     0       0           0          1       162   \n",
       "\n",
       "       LotsCtgry  Forced  lEstValue  lFollowers  Duration  Morning  Evening  \\\n",
       "6076         778       0      1.398       0.954        39        0        0   \n",
       "5991         778       0      1.398       1.041        40        0        0   \n",
       "10374        360       0      1.176       0.845       319        0        0   \n",
       "9071         630       0      1.544       1.342        64        0        0   \n",
       "11230        140       1      2.097       0.954       456        0        0   \n",
       "\n",
       "       Afternoon  lSP.EV  \n",
       "6076           1  -0.097  \n",
       "5991           1  -0.097  \n",
       "10374          1  -0.176  \n",
       "9071           1  -0.146  \n",
       "11230          1  -0.222  "
      ]
     },
     "execution_count": 15,
     "metadata": {},
     "output_type": "execute_result"
    }
   ],
   "source": [
    "X_test.sample(5)"
   ]
  },
  {
   "cell_type": "code",
   "execution_count": 16,
   "metadata": {},
   "outputs": [
    {
     "data": {
      "text/html": [
       "<div>\n",
       "<style scoped>\n",
       "    .dataframe tbody tr th:only-of-type {\n",
       "        vertical-align: middle;\n",
       "    }\n",
       "\n",
       "    .dataframe tbody tr th {\n",
       "        vertical-align: top;\n",
       "    }\n",
       "\n",
       "    .dataframe thead th {\n",
       "        text-align: right;\n",
       "    }\n",
       "</style>\n",
       "<table border=\"1\" class=\"dataframe\">\n",
       "  <thead>\n",
       "    <tr style=\"text-align: right;\">\n",
       "      <th></th>\n",
       "      <th>lSP.EV</th>\n",
       "      <th>Duration</th>\n",
       "      <th>Morning</th>\n",
       "      <th>Evening</th>\n",
       "      <th>Afternoon</th>\n",
       "      <th>lmultiplier</th>\n",
       "      <th>Prediction</th>\n",
       "      <th>Actual</th>\n",
       "      <th>Mask</th>\n",
       "      <th>Day Period</th>\n",
       "    </tr>\n",
       "  </thead>\n",
       "  <tbody>\n",
       "    <tr>\n",
       "      <th>3841</th>\n",
       "      <td>-0.196</td>\n",
       "      <td>242</td>\n",
       "      <td>0</td>\n",
       "      <td>0</td>\n",
       "      <td>1</td>\n",
       "      <td>0.464</td>\n",
       "      <td>2</td>\n",
       "      <td>2</td>\n",
       "      <td>False</td>\n",
       "      <td>Afternoon</td>\n",
       "    </tr>\n",
       "    <tr>\n",
       "      <th>2496</th>\n",
       "      <td>-0.176</td>\n",
       "      <td>438</td>\n",
       "      <td>0</td>\n",
       "      <td>0</td>\n",
       "      <td>1</td>\n",
       "      <td>0.000</td>\n",
       "      <td>0</td>\n",
       "      <td>0</td>\n",
       "      <td>False</td>\n",
       "      <td>Afternoon</td>\n",
       "    </tr>\n",
       "    <tr>\n",
       "      <th>7598</th>\n",
       "      <td>-0.222</td>\n",
       "      <td>362</td>\n",
       "      <td>0</td>\n",
       "      <td>0</td>\n",
       "      <td>1</td>\n",
       "      <td>0.571</td>\n",
       "      <td>2</td>\n",
       "      <td>2</td>\n",
       "      <td>False</td>\n",
       "      <td>Afternoon</td>\n",
       "    </tr>\n",
       "    <tr>\n",
       "      <th>6428</th>\n",
       "      <td>-0.211</td>\n",
       "      <td>39</td>\n",
       "      <td>0</td>\n",
       "      <td>0</td>\n",
       "      <td>1</td>\n",
       "      <td>0.090</td>\n",
       "      <td>0</td>\n",
       "      <td>1</td>\n",
       "      <td>True</td>\n",
       "      <td>Afternoon</td>\n",
       "    </tr>\n",
       "    <tr>\n",
       "      <th>2446</th>\n",
       "      <td>-0.301</td>\n",
       "      <td>439</td>\n",
       "      <td>0</td>\n",
       "      <td>0</td>\n",
       "      <td>1</td>\n",
       "      <td>0.000</td>\n",
       "      <td>0</td>\n",
       "      <td>0</td>\n",
       "      <td>False</td>\n",
       "      <td>Afternoon</td>\n",
       "    </tr>\n",
       "    <tr>\n",
       "      <th>7030</th>\n",
       "      <td>-0.125</td>\n",
       "      <td>340</td>\n",
       "      <td>0</td>\n",
       "      <td>0</td>\n",
       "      <td>1</td>\n",
       "      <td>0.882</td>\n",
       "      <td>0</td>\n",
       "      <td>2</td>\n",
       "      <td>True</td>\n",
       "      <td>Afternoon</td>\n",
       "    </tr>\n",
       "    <tr>\n",
       "      <th>5991</th>\n",
       "      <td>-0.097</td>\n",
       "      <td>40</td>\n",
       "      <td>0</td>\n",
       "      <td>0</td>\n",
       "      <td>1</td>\n",
       "      <td>-0.097</td>\n",
       "      <td>0</td>\n",
       "      <td>0</td>\n",
       "      <td>False</td>\n",
       "      <td>Afternoon</td>\n",
       "    </tr>\n",
       "    <tr>\n",
       "      <th>1181</th>\n",
       "      <td>-0.204</td>\n",
       "      <td>39</td>\n",
       "      <td>0</td>\n",
       "      <td>0</td>\n",
       "      <td>1</td>\n",
       "      <td>0.176</td>\n",
       "      <td>0</td>\n",
       "      <td>1</td>\n",
       "      <td>True</td>\n",
       "      <td>Afternoon</td>\n",
       "    </tr>\n",
       "    <tr>\n",
       "      <th>852</th>\n",
       "      <td>-0.204</td>\n",
       "      <td>44</td>\n",
       "      <td>0</td>\n",
       "      <td>1</td>\n",
       "      <td>0</td>\n",
       "      <td>0.140</td>\n",
       "      <td>0</td>\n",
       "      <td>1</td>\n",
       "      <td>True</td>\n",
       "      <td>Evening</td>\n",
       "    </tr>\n",
       "    <tr>\n",
       "      <th>4087</th>\n",
       "      <td>-0.125</td>\n",
       "      <td>244</td>\n",
       "      <td>0</td>\n",
       "      <td>0</td>\n",
       "      <td>1</td>\n",
       "      <td>-0.125</td>\n",
       "      <td>1</td>\n",
       "      <td>0</td>\n",
       "      <td>True</td>\n",
       "      <td>Afternoon</td>\n",
       "    </tr>\n",
       "  </tbody>\n",
       "</table>\n",
       "</div>"
      ],
      "text/plain": [
       "      lSP.EV  Duration  Morning  Evening  Afternoon  lmultiplier  Prediction  \\\n",
       "3841  -0.196       242        0        0          1        0.464           2   \n",
       "2496  -0.176       438        0        0          1        0.000           0   \n",
       "7598  -0.222       362        0        0          1        0.571           2   \n",
       "6428  -0.211        39        0        0          1        0.090           0   \n",
       "2446  -0.301       439        0        0          1        0.000           0   \n",
       "7030  -0.125       340        0        0          1        0.882           0   \n",
       "5991  -0.097        40        0        0          1       -0.097           0   \n",
       "1181  -0.204        39        0        0          1        0.176           0   \n",
       "852   -0.204        44        0        1          0        0.140           0   \n",
       "4087  -0.125       244        0        0          1       -0.125           1   \n",
       "\n",
       "     Actual   Mask Day Period  \n",
       "3841      2  False  Afternoon  \n",
       "2496      0  False  Afternoon  \n",
       "7598      2  False  Afternoon  \n",
       "6428      1   True  Afternoon  \n",
       "2446      0  False  Afternoon  \n",
       "7030      2   True  Afternoon  \n",
       "5991      0  False  Afternoon  \n",
       "1181      1   True  Afternoon  \n",
       "852       1   True    Evening  \n",
       "4087      0   True  Afternoon  "
      ]
     },
     "execution_count": 16,
     "metadata": {},
     "output_type": "execute_result"
    }
   ],
   "source": [
    "def merge_columns(df, columns):\n",
    "    return (\n",
    "        df[columns]\n",
    "        .stack()\n",
    "        .reset_index()\n",
    "        .set_index('level_0')\n",
    "        .where(lambda df: df[0] != 0)\n",
    "        .dropna()\n",
    "        .drop(0, axis=1)\n",
    "    )\n",
    "#Creating the dataframe to visualize classifier performance\n",
    "df_vis = X_test[['lSP.EV','Duration','Morning','Evening','Afternoon']].copy()\n",
    "df_vis['lmultiplier'] = y_test\n",
    "df_vis['Prediction'] = adb.predict(X_test)\n",
    "df_vis['Actual'] = y_test_bins\n",
    "df_vis['Mask']= df_vis['Prediction'] != df_vis['Actual']\n",
    "day_period = merge_columns(df_vis, ['Morning', 'Afternoon', 'Evening'])\n",
    "df_vis['Day Period'] = day_period['level_1']\n",
    "#df_vis[\"day_period\"]=merge_columns(df_vis, ['Morning', 'Afternoon', 'Evening']),\n",
    "\n",
    "#df_vis['Actual'] = df_vis['lmultiplier'].apply()\n",
    "df_vis.sample(10)\n",
    "\n"
   ]
  },
  {
   "cell_type": "markdown",
   "metadata": {},
   "source": [
    "Joint plot of lmultiplier and ISP.EV with hue = not predicted"
   ]
  },
  {
   "cell_type": "code",
   "execution_count": 19,
   "metadata": {},
   "outputs": [
    {
     "data": {
      "image/png": "[encoded data removed]",
      "text/plain": [
       "<Figure size 492.625x432 with 1 Axes>"
      ]
     },
     "metadata": {},
     "output_type": "display_data"
    }
   ],
   "source": [
    "#jointplot of multiplier  and lSP.EV with hue incorectly predicted \n",
    "#g = sns.jointplot(x='lSP.EV', y='lmultiplier',data = df_vis, kind='reg', size=8, hue = 'Mask')\n",
    "g = sns.lmplot(x='lSP.EV', y='lmultiplier',data = df_vis, size=6, hue = 'Mask', fit_reg=False)\n",
    "#x = np.linspace(-2.5, .5, 100);\n",
    "#g.ax_joint.plot(x, x, c='darkgrey', zorder=0)\n",
    "#g.ax_joint.axhline(y=0, c='crimson', zorder=0); g.ax_joint.axvline(x=0, c='crimson', zorder=0);\n",
    "\n",
    "plt.savefig('Multiplier to SP.EV log conigured.png')"
   ]
  },
  {
   "cell_type": "markdown",
   "metadata": {},
   "source": [
    "Joint plot of Duration and lmultiplier with hue = not predicted"
   ]
  },
  {
   "cell_type": "code",
   "execution_count": 20,
   "metadata": {},
   "outputs": [
    {
     "data": {
      "image/png": "[encoded data removed]",
      "text/plain": [
       "<Figure size 420.625x360 with 1 Axes>"
      ]
     },
     "metadata": {},
     "output_type": "display_data"
    }
   ],
   "source": [
    "#jointPlot with Duration and Imultiplier with hue = Mask\n",
    "#g = sns.jointplot(x='lSP.EV', y='lmultiplier',data = df_vis, kind='reg', size=8, hue = 'Mask')\n",
    "g = sns.lmplot(x='Duration', y='lmultiplier',data = df_vis, size=5, hue = 'Mask', fit_reg=False)\n",
    "#x = np.linspace(-2.5, .5, 100);\n",
    "#g.ax_joint.plot(x, x, c='darkgrey', zorder=0)\n",
    "#g.ax_joint.axhline(y=0, c='crimson', zorder=0); g.ax_joint.axvline(x=0, c='crimson', zorder=0);\n",
    "\n",
    "plt.savefig('Multiplier to SP.EV log conigured.png')"
   ]
  },
  {
   "cell_type": "markdown",
   "metadata": {},
   "source": [
    "Joint plot of lmultiplier and day period with hue = not predicted"
   ]
  },
  {
   "cell_type": "code",
   "execution_count": 21,
   "metadata": {},
   "outputs": [
    {
     "data": {
      "image/png": "[encoded data removed]",
      "text/plain": [
       "<Figure size 420.625x360 with 1 Axes>"
      ]
     },
     "metadata": {},
     "output_type": "display_data"
    }
   ],
   "source": [
    "#Jointplot for time of the day\n",
    "g = sns.lmplot(x='Day Period', y='lmultiplier',data = df_vis, size=5, hue = 'Mask', fit_reg=False)"
   ]
  },
  {
   "cell_type": "markdown",
   "metadata": {},
   "source": [
    "Box plot of lSP.EV and y test with hue = not predicted"
   ]
  },
  {
   "cell_type": "code",
   "execution_count": 22,
   "metadata": {},
   "outputs": [
    {
     "data": {
      "image/png": "[encoded data removed]",
      "text/plain": [
       "<Figure size 864x432 with 1 Axes>"
      ]
     },
     "metadata": {},
     "output_type": "display_data"
    }
   ],
   "source": [
    "# fig, (ax1, ax2) = plt.subplots(1, 2, figsize=(12,6))\n",
    "ax = sns.boxplot(x='Actual',y='lSP.EV', hue='Mask', data=df_vis)\n",
    "ax.get_figure().set_size_inches((12,6))\n",
    "# sns.boxplot(x='Prediction',y='lSP.EV', data=df_vis, ax=ax2)"
   ]
  },
  {
   "cell_type": "code",
   "execution_count": null,
   "metadata": {},
   "outputs": [],
   "source": []
  }
 ],
 "metadata": {
  "hide_input": false,
  "kernelspec": {
   "display_name": "Python 3",
   "language": "python",
   "name": "python3"
  },
  "language_info": {
   "codemirror_mode": {
    "name": "ipython",
    "version": 3
   },
   "file_extension": ".py",
   "mimetype": "text/x-python",
   "name": "python",
   "nbconvert_exporter": "python",
   "pygments_lexer": "ipython3",
   "version": "3.6.5"
  }
 },
 "nbformat": 4,
 "nbformat_minor": 2
}
