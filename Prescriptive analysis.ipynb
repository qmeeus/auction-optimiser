{
 "cells": [
  {
   "cell_type": "code",
   "execution_count": 1,
   "metadata": {
    "scrolled": false
   },
   "outputs": [],
   "source": [
    "import pandas as pd\n",
    "import numpy as np\n",
    "from queue import Queue\n",
    "import threading\n",
    "import matplotlib.pyplot as plt\n",
    "import seaborn as sns\n",
    "import pickle\n",
    "from visualisation import label_barchart\n",
    "\n",
    "from tabu_search import TabuSearchAlgorithm\n",
    "\n",
    "\n",
    "def load_data(n=None):\n",
    "    \n",
    "    def cut(X, filter_values, log=False):\n",
    "        if log: \n",
    "            X = np.log2(X)\n",
    "        X_cut = pd.cut(X, bins=filter_values)\n",
    "        X_cut = X_cut.map(lambda x: np.argmax(filter_values > x.left) - 1)\n",
    "        X_cut.loc[X_cut.isnull()] = (\n",
    "            X[X_cut.isnull()].map(lambda x: len(filter_values) - 2 if x > filter_values[-1] else 0)\n",
    "        )\n",
    "        return X_cut\n",
    "    \n",
    "    data2014 = pd.read_csv('data/data2014.csv').assign(year=2014)\n",
    "    data2015 = pd.read_csv('data/data2015.csv').assign(year=2015)\n",
    "    data = pd.concat([data2014, data2015], axis=0).reset_index(drop=True)\n",
    "\n",
    "    target_name = \"lmultiplier\"\n",
    "    bins = np.array([-2., 0., .3, 2])\n",
    "    \n",
    "    train_cols = [\n",
    "        'LotNr', 'Allocate', 'Bank', 'Dealer', 'Liquidator', 'Volunteer', \n",
    "        'LotsSale', 'LotsCtgry', 'Forced', 'lEstValue', 'lFollowers', \n",
    "        'Duration', 'Morning', 'Evening', 'Afternoon', 'lSP.EV'\n",
    "    ]\n",
    "    \n",
    "    log_cols = [\"multiplier\", \"EstValue\", \"StartPrice\", \"SP.EV\", \"Followers\"]\n",
    "    log10 = pd.DataFrame(np.log10(data[log_cols].values), columns=list(map(\"l{}\".format, log_cols)))\n",
    "    data = pd.concat([data, log10], axis=1).drop(log_cols, axis=1)\n",
    "    if n is not None:\n",
    "        data = data.sample(n)\n",
    "    X, y = data[train_cols], cut(data[\"lmultiplier\"], bins)\n",
    "    return X, y\n",
    "\n",
    "def import_model(model_name):\n",
    "    with open(model_name, 'rb') as f:\n",
    "        model = pickle.load(f)\n",
    "    return model\n",
    "\n",
    "def optimise(row):\n",
    "    params = dict(n_iter=1000, tabu_size=10, tolerance=.01, early_stop=5, verbose=False)\n",
    "    tabu = TabuSearchAlgorithm(row, \"output/AdaBoostClassifier.pkl\", **params)\n",
    "    tabu.solve()\n",
    "    return tabu.best[1]\n",
    "\n",
    "def make_optimisation(data):\n",
    "    n_threads = 12\n",
    "    queue = Queue()\n",
    "    lock = threading.Lock()\n",
    "    results = pd.DataFrame().reindex_like(X)\n",
    "    \n",
    "    # Create worker threads\n",
    "    def create_workers():\n",
    "        for _ in range(n_threads):\n",
    "            t = threading.Thread(target=work)\n",
    "            t.daemon = True\n",
    "            t.start()\n",
    "            \n",
    "    # Do the next job in the queue and add the output to the results\n",
    "    def work():\n",
    "        while True:\n",
    "            idx, row = queue.get()\n",
    "            new_row = optimise(row)\n",
    "            with lock:\n",
    "                results.loc[idx] = new_row\n",
    "            queue.task_done()\n",
    "\n",
    "    # Create the jobs\n",
    "    def create_jobs():\n",
    "        [queue.put(row) for row in X.iterrows()]\n",
    "\n",
    "    create_workers()\n",
    "    create_jobs()\n",
    "    queue.join()\n",
    "\n",
    "    return results"
   ]
  },
  {
   "cell_type": "code",
   "execution_count": 2,
   "metadata": {},
   "outputs": [],
   "source": [
    "X, y = load_data(10)\n",
    "X_optimised = make_optimisation(X)\n",
    "model = import_model(\"output/AdaBoostClassifier.pkl\")\n",
    "y_optimised = model.predict(X_optimised)"
   ]
  },
  {
   "cell_type": "code",
   "execution_count": 3,
   "metadata": {
    "scrolled": false
   },
   "outputs": [
    {
     "data": {
      "image/png": "[encoded data removed]",
      "text/plain": [
       "<matplotlib.figure.Figure at 0x7f1370043eb8>"
      ]
     },
     "metadata": {},
     "output_type": "display_data"
    }
   ],
   "source": [
    "fig, (ax1, ax2) = plt.subplots(2, 1, figsize=(12, 8), sharex=True)\n",
    "y.value_counts().sort_index().plot.bar(ax=ax1)\n",
    "pd.Series(y_optimised).value_counts().sort_index().plot.bar(ax=ax2)\n",
    "ax1.set_xlabel(\"\")\n",
    "label_barchart(ax1, fmt=\"{:.0f}\")\n",
    "label_barchart(ax2, fmt=\"{:.0f}\")\n",
    "plt.tight_layout()\n",
    "plt.savefig(\"output/optimisation.png\")"
   ]
  },
  {
   "cell_type": "code",
   "execution_count": null,
   "metadata": {},
   "outputs": [],
   "source": []
  }
 ],
 "metadata": {
  "hide_input": false,
  "kernelspec": {
   "display_name": "Python 3",
   "language": "python",
   "name": "python3"
  },
  "language_info": {
   "codemirror_mode": {
    "name": "ipython",
    "version": 3
   },
   "file_extension": ".py",
   "mimetype": "text/x-python",
   "name": "python",
   "nbconvert_exporter": "python",
   "pygments_lexer": "ipython3",
   "version": "3.6.5"
  }
 },
 "nbformat": 4,
 "nbformat_minor": 2
}
