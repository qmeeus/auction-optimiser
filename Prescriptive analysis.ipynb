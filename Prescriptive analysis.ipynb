{
 "cells": [
  {
   "cell_type": "code",
   "execution_count": 1,
   "metadata": {
    "scrolled": false
   },
   "outputs": [],
   "source": [
    "import pandas as pd\n",
    "import numpy as np\n",
    "from tabu_search import TabuSearchAlgorithm\n",
    "from queue import Queue\n",
    "import threading\n",
    "import matplotlib.pyplot as plt\n",
    "import seaborn as sns\n",
    "import pickle\n",
    "\n",
    "def load_data(n=None):\n",
    "    data2014 = pd.read_csv('data/data2014.csv').assign(year=2014)\n",
    "    data2015 = pd.read_csv('data/data2015.csv').assign(year=2015)\n",
    "    data = pd.concat([data2014, data2015], axis=0).reset_index(drop=True)\n",
    "\n",
    "    target_name = \"lmultiplier\"\n",
    "    train_cols = ['LotNr', 'Allocate', 'Bank', 'Dealer', 'Liquidator', 'Volunteer',\n",
    "                  'LotsSale', 'LotsCtgry', 'Forced', 'year', 'lEstValue', 'lFollowers',\n",
    "                  'Duration', 'Morning', 'Evening', 'Afternoon', 'lStartPrice', 'lSP.EV']\n",
    "    log_cols = [\"multiplier\", \"EstValue\", \"StartPrice\", \"SP.EV\", \"Followers\"]\n",
    "    log10 = pd.DataFrame(np.log10(data[log_cols].values), columns=list(map(\"l{}\".format, log_cols)))\n",
    "    data = pd.concat([data, log10], axis=1).drop(log_cols, axis=1)\n",
    "    if n is not None:\n",
    "        data = data.sample(n)\n",
    "    return data.drop(\"lmultiplier\", axis=1), data[\"lmultiplier\"]\n",
    "\n",
    "def import_model(model_name):\n",
    "    with open(model_name, 'rb') as f:\n",
    "        model = pickle.load(f)\n",
    "    return model\n",
    "\n",
    "def optimise(row):\n",
    "    params = dict(n_iter=1000, tabu_size=10, tolerance=.1, early_stop=3, verbose=False)\n",
    "    tabu = TabuSearchAlgorithm(row, \"output/AdaBoostClassifier.pkl\", **params)\n",
    "    tabu.solve()\n",
    "    return tabu.best_score[1]\n",
    "\n",
    "def make_optimisation(data):\n",
    "    n_threads = 12\n",
    "    queue = Queue()\n",
    "    lock = threading.Lock()\n",
    "    results = pd.DataFrame().reindex_like(X)\n",
    "    \n",
    "    # Create worker threads\n",
    "    def create_workers():\n",
    "        for _ in range(n_threads):\n",
    "            t = threading.Thread(target=work)\n",
    "            t.daemon = True\n",
    "            t.start()\n",
    "            \n",
    "    # Do the next job in the queue and add the output to the results\n",
    "    def work():\n",
    "        while True:\n",
    "            idx, row = queue.get()\n",
    "            new_row = optimise(row)\n",
    "            with lock:\n",
    "                results.loc[idx] = new_row\n",
    "            queue.task_done()\n",
    "\n",
    "    # Create the jobs\n",
    "    def create_jobs():\n",
    "        [queue.put(row) for row in X.iterrows()]\n",
    "\n",
    "    create_workers()\n",
    "    create_jobs()\n",
    "    queue.join()\n",
    "\n",
    "    return results"
   ]
  },
  {
   "cell_type": "code",
   "execution_count": 2,
   "metadata": {},
   "outputs": [
    {
     "data": {
      "image/png": "[encoded data removed]",
      "text/plain": [
       "<matplotlib.figure.Figure at 0x7f62ca9bb2e8>"
      ]
     },
     "metadata": {},
     "output_type": "display_data"
    }
   ],
   "source": [
    "X, y = load_data(100)\n",
    "X_optimised = make_optimisation(X)\n",
    "model = import_model(\"output/AdaBoostClassifier.pkl\")\n",
    "y_optimised = model.predict(X_optimised)\n",
    "fig, (ax1, ax2) = plt.subplots(2, 1, figsize=(12, 8), sharex=True)\n",
    "sns.boxplot(y, ax=ax1)\n",
    "sns.boxplot(y_optimised, ax=ax2)\n",
    "ax1.set_xlabel(\"\")\n",
    "plt.tight_layout()\n",
    "plt.savefig(\"optimisation.png\")"
   ]
  }
 ],
 "metadata": {
  "hide_input": false,
  "kernelspec": {
   "display_name": "Python 3",
   "language": "python",
   "name": "python3"
  },
  "language_info": {
   "codemirror_mode": {
    "name": "ipython",
    "version": 3
   },
   "file_extension": ".py",
   "mimetype": "text/x-python",
   "name": "python",
   "nbconvert_exporter": "python",
   "pygments_lexer": "ipython3",
   "version": "3.6.5"
  }
 },
 "nbformat": 4,
 "nbformat_minor": 2
}
